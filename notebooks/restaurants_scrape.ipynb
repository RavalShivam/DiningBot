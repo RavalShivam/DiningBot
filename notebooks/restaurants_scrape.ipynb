{
  "nbformat": 4,
  "nbformat_minor": 0,
  "metadata": {
    "colab": {
      "name": "restaurants_scrape.ipynb",
      "provenance": [],
      "collapsed_sections": []
    },
    "kernelspec": {
      "name": "python3",
      "display_name": "Python 3"
    }
  },
  "cells": [
    {
      "cell_type": "code",
      "metadata": {
        "id": "zlkWRsdiHVvC",
        "colab_type": "code",
        "colab": {}
      },
      "source": [
        "import json\n",
        "import time\n",
        "import logging\n",
        "\n",
        "import requests\n",
        "    \n",
        "\n",
        "location=\"Manhattan\"\n",
        "cuisines=['italian','japanese','chinese', 'mexican','indpak', 'thai', 'vietnamese', 'greek', 'german', 'french', 'brazilian', 'kosher', 'korean', 'irish', 'breakfast_brunch', 'mediterranean','scottish']\n",
        "\n",
        "URL = \"https://api.yelp.com/v3/businesses/search?location=\" + location + \"&categories=\" + 'italian'+ \"&limit=50\"\n",
        "header = {\n",
        "    'Authorization' : 'AUTH CODE GOES HERE'\n",
        "}\n",
        "\n",
        "# tempData = requests.get(URL, headers = header)\n",
        "\n",
        "# print(\"Restaurants: \",tempData.text)\n",
        "#dic=json.loads(tempData.text)\n",
        "fulllist=[]\n",
        "for cus in cuisines:\n",
        "  URL = \"https://api.yelp.com/v3/businesses/search?location=\" + location + \"&categories=\" + cus + \"&limit=50\"\n",
        "  for i in range(20):\n",
        "    tempData= requests.get(URL+\"&offset=\"+str(i*50), headers = header)\n",
        "    if(tempData.status_code!=200):\n",
        "      break\n",
        "    dic=json.loads(tempData.text)\n",
        "    businesses=dic['businesses']\n",
        "    for bn in businesses:\n",
        "      bn['cuisine']=cus\n",
        "    #print(businesses)\n",
        "    fulllist.extend(businesses)\n",
        "    time.sleep(2)\n",
        "  # res=dict()\n",
        "  # for res in fulldict:\n",
        "  #   d=json.loads(res)\n",
        "\n",
        "  #   res[d['id']]=res\n",
        "  print(cus,\": \",len(fulllist))\n",
        "  rests={}\n",
        "  rests['restaurants']=fulllist\n",
        "\n",
        "  with open(cus+'.json', 'w') as outfile:\n",
        "    json.dump(rests, outfile)\n",
        "\n",
        "  print('done!')\n",
        "\n",
        "print(\"Finished!\")"
      ],
      "execution_count": 0,
      "outputs": []
    },
    {
      "cell_type": "code",
      "metadata": {
        "id": "zSLj0bBFLpQX",
        "colab_type": "code",
        "colab": {}
      },
      "source": [
        "print(len(fulllist))\n",
        "rests={}\n",
        "rests['italian']=fulllist\n",
        "\n",
        "with open('italian.json', 'w') as outfile:\n",
        "  json.dump(rests, outfile)\n",
        "\n",
        "print('done!')"
      ],
      "execution_count": 0,
      "outputs": []
    },
    {
      "cell_type": "code",
      "metadata": {
        "id": "DyWdpXbwBdUv",
        "colab_type": "code",
        "colab": {}
      },
      "source": [
        "print(\"Temp: \",tempData.text)"
      ],
      "execution_count": 0,
      "outputs": []
    },
    {
      "cell_type": "code",
      "metadata": {
        "id": "UbEjIwi1qG9p",
        "colab_type": "code",
        "colab": {}
      },
      "source": [
        "print(dict['total'])\n",
        "businesses= dict['businesses']"
      ],
      "execution_count": 0,
      "outputs": []
    },
    {
      "cell_type": "code",
      "metadata": {
        "id": "JdEXDChyqb-G",
        "colab_type": "code",
        "colab": {}
      },
      "source": [
        "print(len(businesses))\n",
        "print(businesses[0])"
      ],
      "execution_count": 0,
      "outputs": []
    },
    {
      "cell_type": "code",
      "metadata": {
        "id": "oG2i8azqV1vr",
        "colab_type": "code",
        "colab": {}
      },
      "source": [
        "# To restructure the data into DynamoDB PutRequest format\n",
        "# data= json.loads('vietnamese.json')\n",
        "import json\n",
        "import time\n",
        "import logging\n",
        "\n",
        "import requests\n",
        "with open('scottish.json', 'r') as f:\n",
        "  data= json.load(f)\n",
        "lis= data['restaurants']\n",
        "listOfReqs=[]\n",
        "s=set()\n",
        "for res in lis:\n",
        "  item={}\n",
        "  item['Item']=res\n",
        "  s.add(res['id'])\n",
        "  putreq={}\n",
        "  putreq['PutRequest']=item;\n",
        "  listOfReqs.append(putreq)\n",
        "restauraunts={}\n",
        "restauraunts[\"restaurants\"]=listOfReqs\n",
        "print(len(s))\n",
        "\n",
        "with open('allrests.json', 'w') as outfile:\n",
        "  json.dump(restauraunts, outfile)"
      ],
      "execution_count": 0,
      "outputs": []
    },
    {
      "cell_type": "code",
      "metadata": {
        "id": "7I5nZF9MYoei",
        "colab_type": "code",
        "colab": {}
      },
      "source": [
        "\n"
      ],
      "execution_count": 0,
      "outputs": []
    }
  ]
}